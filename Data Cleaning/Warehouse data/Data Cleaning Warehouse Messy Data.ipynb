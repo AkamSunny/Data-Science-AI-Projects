{
 "cells": [
  {
   "cell_type": "code",
   "execution_count": 418,
   "id": "c42d4367-82c0-4dba-8666-8e3e9eb54148",
   "metadata": {},
   "outputs": [],
   "source": [
    "import pandas as pd\n",
    "import numpy as np\n",
    "import matplotlib.pyplot as plt"
   ]
  },
  {
   "cell_type": "code",
   "execution_count": 420,
   "id": "a287e012-8953-4bde-8829-ab3ccc803512",
   "metadata": {},
   "outputs": [],
   "source": [
    "df = pd.read_csv(\"warehouse_messy_data.csv\")"
   ]
  },
  {
   "cell_type": "markdown",
   "id": "19bca14c-0a92-4247-8094-5ad6446bd07c",
   "metadata": {},
   "source": [
    "# EDA"
   ]
  },
  {
   "cell_type": "code",
   "execution_count": 423,
   "id": "6679095d-b1c9-42fb-885b-e7f848ccca21",
   "metadata": {},
   "outputs": [
    {
     "data": {
      "text/html": [
       "<div>\n",
       "<style scoped>\n",
       "    .dataframe tbody tr th:only-of-type {\n",
       "        vertical-align: middle;\n",
       "    }\n",
       "\n",
       "    .dataframe tbody tr th {\n",
       "        vertical-align: top;\n",
       "    }\n",
       "\n",
       "    .dataframe thead th {\n",
       "        text-align: right;\n",
       "    }\n",
       "</style>\n",
       "<table border=\"1\" class=\"dataframe\">\n",
       "  <thead>\n",
       "    <tr style=\"text-align: right;\">\n",
       "      <th></th>\n",
       "      <th>Product ID</th>\n",
       "      <th>Product Name</th>\n",
       "      <th>Category</th>\n",
       "      <th>Warehouse</th>\n",
       "      <th>Location</th>\n",
       "      <th>Quantity</th>\n",
       "      <th>Price</th>\n",
       "      <th>Supplier</th>\n",
       "      <th>Status</th>\n",
       "      <th>Last Restocked</th>\n",
       "    </tr>\n",
       "  </thead>\n",
       "  <tbody>\n",
       "    <tr>\n",
       "      <th>0</th>\n",
       "      <td>1102</td>\n",
       "      <td>gadget y</td>\n",
       "      <td>ELECTRONICS</td>\n",
       "      <td>Warehouse 2</td>\n",
       "      <td>Aisle 1</td>\n",
       "      <td>300</td>\n",
       "      <td>9.99</td>\n",
       "      <td>Supplier C</td>\n",
       "      <td>In Stock</td>\n",
       "      <td>NaN</td>\n",
       "    </tr>\n",
       "    <tr>\n",
       "      <th>1</th>\n",
       "      <td>1435</td>\n",
       "      <td>gadget y</td>\n",
       "      <td>ELECTRONICS</td>\n",
       "      <td>Warehouse 2</td>\n",
       "      <td>Aisle 4</td>\n",
       "      <td>two hundred</td>\n",
       "      <td>19.99</td>\n",
       "      <td>Supplier C</td>\n",
       "      <td>Out of Stock</td>\n",
       "      <td>NaN</td>\n",
       "    </tr>\n",
       "    <tr>\n",
       "      <th>2</th>\n",
       "      <td>1860</td>\n",
       "      <td>widget a</td>\n",
       "      <td>CLOTHING</td>\n",
       "      <td>Warehouse 2</td>\n",
       "      <td>Aisle 3</td>\n",
       "      <td>100</td>\n",
       "      <td>19.99</td>\n",
       "      <td>Supplier B</td>\n",
       "      <td>In Stock</td>\n",
       "      <td>20/12/2022</td>\n",
       "    </tr>\n",
       "    <tr>\n",
       "      <th>3</th>\n",
       "      <td>1270</td>\n",
       "      <td>gadget z</td>\n",
       "      <td>TOYS</td>\n",
       "      <td>Warehouse 2</td>\n",
       "      <td>Aisle 4</td>\n",
       "      <td>50</td>\n",
       "      <td>49.99</td>\n",
       "      <td>Supplier B</td>\n",
       "      <td>In Stock</td>\n",
       "      <td>20/12/2022</td>\n",
       "    </tr>\n",
       "    <tr>\n",
       "      <th>4</th>\n",
       "      <td>1106</td>\n",
       "      <td>widget a</td>\n",
       "      <td>FURNITURE</td>\n",
       "      <td>Warehouse 3</td>\n",
       "      <td>Aisle 3</td>\n",
       "      <td>two hundred</td>\n",
       "      <td>9.99</td>\n",
       "      <td>Supplier D</td>\n",
       "      <td>Out of Stock</td>\n",
       "      <td>25/04/2023</td>\n",
       "    </tr>\n",
       "  </tbody>\n",
       "</table>\n",
       "</div>"
      ],
      "text/plain": [
       "   Product ID Product Name     Category    Warehouse Location     Quantity  \\\n",
       "0        1102    gadget y   ELECTRONICS  Warehouse 2  Aisle 1          300   \n",
       "1        1435    gadget y   ELECTRONICS  Warehouse 2  Aisle 4  two hundred   \n",
       "2        1860    widget a      CLOTHING  Warehouse 2  Aisle 3          100   \n",
       "3        1270    gadget z          TOYS  Warehouse 2  Aisle 4           50   \n",
       "4        1106    widget a     FURNITURE  Warehouse 3  Aisle 3  two hundred   \n",
       "\n",
       "   Price    Supplier        Status Last Restocked  \n",
       "0   9.99  Supplier C      In Stock            NaN  \n",
       "1  19.99  Supplier C  Out of Stock            NaN  \n",
       "2  19.99  Supplier B      In Stock     20/12/2022  \n",
       "3  49.99  Supplier B      In Stock     20/12/2022  \n",
       "4   9.99  Supplier D  Out of Stock     25/04/2023  "
      ]
     },
     "execution_count": 423,
     "metadata": {},
     "output_type": "execute_result"
    }
   ],
   "source": [
    "df.head()"
   ]
  },
  {
   "cell_type": "code",
   "execution_count": 425,
   "id": "b89fda7a-8038-4c7c-9c74-716428679efe",
   "metadata": {},
   "outputs": [
    {
     "data": {
      "text/plain": [
       "(1000, 10)"
      ]
     },
     "execution_count": 425,
     "metadata": {},
     "output_type": "execute_result"
    }
   ],
   "source": [
    "df.shape"
   ]
  },
  {
   "cell_type": "code",
   "execution_count": 427,
   "id": "d86c2346-bd00-4647-9202-36191ca02d20",
   "metadata": {},
   "outputs": [
    {
     "name": "stdout",
     "output_type": "stream",
     "text": [
      "<class 'pandas.core.frame.DataFrame'>\n",
      "RangeIndex: 1000 entries, 0 to 999\n",
      "Data columns (total 10 columns):\n",
      " #   Column          Non-Null Count  Dtype  \n",
      "---  ------          --------------  -----  \n",
      " 0   Product ID      1000 non-null   int64  \n",
      " 1   Product Name    1000 non-null   object \n",
      " 2   Category        1000 non-null   object \n",
      " 3   Warehouse       1000 non-null   object \n",
      " 4   Location        1000 non-null   object \n",
      " 5   Quantity        842 non-null    object \n",
      " 6   Price           793 non-null    float64\n",
      " 7   Supplier        1000 non-null   object \n",
      " 8   Status          1000 non-null   object \n",
      " 9   Last Restocked  800 non-null    object \n",
      "dtypes: float64(1), int64(1), object(8)\n",
      "memory usage: 78.3+ KB\n"
     ]
    }
   ],
   "source": [
    "df.info()"
   ]
  },
  {
   "cell_type": "code",
   "execution_count": 429,
   "id": "aa0b16c0-a332-42bc-9b56-f450852d5d22",
   "metadata": {},
   "outputs": [
    {
     "data": {
      "text/html": [
       "<div>\n",
       "<style scoped>\n",
       "    .dataframe tbody tr th:only-of-type {\n",
       "        vertical-align: middle;\n",
       "    }\n",
       "\n",
       "    .dataframe tbody tr th {\n",
       "        vertical-align: top;\n",
       "    }\n",
       "\n",
       "    .dataframe thead th {\n",
       "        text-align: right;\n",
       "    }\n",
       "</style>\n",
       "<table border=\"1\" class=\"dataframe\">\n",
       "  <thead>\n",
       "    <tr style=\"text-align: right;\">\n",
       "      <th></th>\n",
       "      <th>Product ID</th>\n",
       "      <th>Price</th>\n",
       "    </tr>\n",
       "  </thead>\n",
       "  <tbody>\n",
       "    <tr>\n",
       "      <th>count</th>\n",
       "      <td>1000.000000</td>\n",
       "      <td>793.000000</td>\n",
       "    </tr>\n",
       "    <tr>\n",
       "      <th>mean</th>\n",
       "      <td>1503.929000</td>\n",
       "      <td>28.085839</td>\n",
       "    </tr>\n",
       "    <tr>\n",
       "      <th>std</th>\n",
       "      <td>289.998108</td>\n",
       "      <td>14.686312</td>\n",
       "    </tr>\n",
       "    <tr>\n",
       "      <th>min</th>\n",
       "      <td>1000.000000</td>\n",
       "      <td>9.990000</td>\n",
       "    </tr>\n",
       "    <tr>\n",
       "      <th>25%</th>\n",
       "      <td>1242.750000</td>\n",
       "      <td>19.990000</td>\n",
       "    </tr>\n",
       "    <tr>\n",
       "      <th>50%</th>\n",
       "      <td>1505.000000</td>\n",
       "      <td>29.990000</td>\n",
       "    </tr>\n",
       "    <tr>\n",
       "      <th>75%</th>\n",
       "      <td>1757.250000</td>\n",
       "      <td>49.990000</td>\n",
       "    </tr>\n",
       "    <tr>\n",
       "      <th>max</th>\n",
       "      <td>1998.000000</td>\n",
       "      <td>49.990000</td>\n",
       "    </tr>\n",
       "  </tbody>\n",
       "</table>\n",
       "</div>"
      ],
      "text/plain": [
       "        Product ID       Price\n",
       "count  1000.000000  793.000000\n",
       "mean   1503.929000   28.085839\n",
       "std     289.998108   14.686312\n",
       "min    1000.000000    9.990000\n",
       "25%    1242.750000   19.990000\n",
       "50%    1505.000000   29.990000\n",
       "75%    1757.250000   49.990000\n",
       "max    1998.000000   49.990000"
      ]
     },
     "execution_count": 429,
     "metadata": {},
     "output_type": "execute_result"
    }
   ],
   "source": [
    "df.describe()"
   ]
  },
  {
   "cell_type": "code",
   "execution_count": null,
   "id": "604e0b33-02b7-4feb-b0ea-ad61ac4fc469",
   "metadata": {},
   "outputs": [],
   "source": []
  },
  {
   "cell_type": "markdown",
   "id": "c1226407-37e5-4f3d-8d45-f0e696f2239d",
   "metadata": {},
   "source": [
    "# Stripping White Spaces"
   ]
  },
  {
   "cell_type": "code",
   "execution_count": 433,
   "id": "bb3a58fb-2d01-4d22-995a-451d3359b322",
   "metadata": {},
   "outputs": [
    {
     "data": {
      "text/plain": [
       "Index(['Product ID', 'Product Name', 'Category', 'Warehouse', 'Location',\n",
       "       'Quantity', 'Price', 'Supplier', 'Status', 'Last Restocked'],\n",
       "      dtype='object')"
      ]
     },
     "execution_count": 433,
     "metadata": {},
     "output_type": "execute_result"
    }
   ],
   "source": [
    "df.columns"
   ]
  },
  {
   "cell_type": "code",
   "execution_count": 435,
   "id": "7f004bb4-8b9b-4fee-bfe2-8e56508241ad",
   "metadata": {},
   "outputs": [],
   "source": [
    "df.columns = df.columns.str.strip()"
   ]
  },
  {
   "cell_type": "code",
   "execution_count": null,
   "id": "984b5de7-3afb-41b4-9128-9d9d909a5a04",
   "metadata": {},
   "outputs": [],
   "source": []
  },
  {
   "cell_type": "markdown",
   "id": "8b93332f-b363-475e-881b-3665decc79d9",
   "metadata": {},
   "source": [
    "# Standardizing text format"
   ]
  },
  {
   "cell_type": "code",
   "execution_count": 439,
   "id": "6fc2ae46-2fdb-4498-8409-b852e1d039d8",
   "metadata": {},
   "outputs": [
    {
     "data": {
      "text/html": [
       "<div>\n",
       "<style scoped>\n",
       "    .dataframe tbody tr th:only-of-type {\n",
       "        vertical-align: middle;\n",
       "    }\n",
       "\n",
       "    .dataframe tbody tr th {\n",
       "        vertical-align: top;\n",
       "    }\n",
       "\n",
       "    .dataframe thead th {\n",
       "        text-align: right;\n",
       "    }\n",
       "</style>\n",
       "<table border=\"1\" class=\"dataframe\">\n",
       "  <thead>\n",
       "    <tr style=\"text-align: right;\">\n",
       "      <th></th>\n",
       "      <th>Product ID</th>\n",
       "      <th>Product Name</th>\n",
       "      <th>Category</th>\n",
       "      <th>Warehouse</th>\n",
       "      <th>Location</th>\n",
       "      <th>Quantity</th>\n",
       "      <th>Price</th>\n",
       "      <th>Supplier</th>\n",
       "      <th>Status</th>\n",
       "      <th>Last Restocked</th>\n",
       "    </tr>\n",
       "  </thead>\n",
       "  <tbody>\n",
       "    <tr>\n",
       "      <th>0</th>\n",
       "      <td>1102</td>\n",
       "      <td>gadget y</td>\n",
       "      <td>ELECTRONICS</td>\n",
       "      <td>Warehouse 2</td>\n",
       "      <td>Aisle 1</td>\n",
       "      <td>300</td>\n",
       "      <td>9.99</td>\n",
       "      <td>Supplier C</td>\n",
       "      <td>In Stock</td>\n",
       "      <td>NaN</td>\n",
       "    </tr>\n",
       "    <tr>\n",
       "      <th>1</th>\n",
       "      <td>1435</td>\n",
       "      <td>gadget y</td>\n",
       "      <td>ELECTRONICS</td>\n",
       "      <td>Warehouse 2</td>\n",
       "      <td>Aisle 4</td>\n",
       "      <td>two hundred</td>\n",
       "      <td>19.99</td>\n",
       "      <td>Supplier C</td>\n",
       "      <td>Out of Stock</td>\n",
       "      <td>NaN</td>\n",
       "    </tr>\n",
       "    <tr>\n",
       "      <th>2</th>\n",
       "      <td>1860</td>\n",
       "      <td>widget a</td>\n",
       "      <td>CLOTHING</td>\n",
       "      <td>Warehouse 2</td>\n",
       "      <td>Aisle 3</td>\n",
       "      <td>100</td>\n",
       "      <td>19.99</td>\n",
       "      <td>Supplier B</td>\n",
       "      <td>In Stock</td>\n",
       "      <td>20/12/2022</td>\n",
       "    </tr>\n",
       "    <tr>\n",
       "      <th>3</th>\n",
       "      <td>1270</td>\n",
       "      <td>gadget z</td>\n",
       "      <td>TOYS</td>\n",
       "      <td>Warehouse 2</td>\n",
       "      <td>Aisle 4</td>\n",
       "      <td>50</td>\n",
       "      <td>49.99</td>\n",
       "      <td>Supplier B</td>\n",
       "      <td>In Stock</td>\n",
       "      <td>20/12/2022</td>\n",
       "    </tr>\n",
       "    <tr>\n",
       "      <th>4</th>\n",
       "      <td>1106</td>\n",
       "      <td>widget a</td>\n",
       "      <td>FURNITURE</td>\n",
       "      <td>Warehouse 3</td>\n",
       "      <td>Aisle 3</td>\n",
       "      <td>two hundred</td>\n",
       "      <td>9.99</td>\n",
       "      <td>Supplier D</td>\n",
       "      <td>Out of Stock</td>\n",
       "      <td>25/04/2023</td>\n",
       "    </tr>\n",
       "    <tr>\n",
       "      <th>5</th>\n",
       "      <td>1071</td>\n",
       "      <td>widget b</td>\n",
       "      <td>CLOTHING</td>\n",
       "      <td>Warehouse 3</td>\n",
       "      <td>Aisle 5</td>\n",
       "      <td>300</td>\n",
       "      <td>NaN</td>\n",
       "      <td>Supplier A</td>\n",
       "      <td>In Stock</td>\n",
       "      <td>20/12/2022</td>\n",
       "    </tr>\n",
       "    <tr>\n",
       "      <th>6</th>\n",
       "      <td>1700</td>\n",
       "      <td>widget a</td>\n",
       "      <td>CLOTHING</td>\n",
       "      <td>Warehouse 2</td>\n",
       "      <td>Aisle 2</td>\n",
       "      <td>two hundred</td>\n",
       "      <td>49.99</td>\n",
       "      <td>Supplier B</td>\n",
       "      <td>In Stock</td>\n",
       "      <td>20/12/2022</td>\n",
       "    </tr>\n",
       "    <tr>\n",
       "      <th>7</th>\n",
       "      <td>1020</td>\n",
       "      <td>widget c</td>\n",
       "      <td>CLOTHING</td>\n",
       "      <td>Warehouse 1</td>\n",
       "      <td>Aisle 5</td>\n",
       "      <td>two hundred</td>\n",
       "      <td>9.99</td>\n",
       "      <td>Supplier D</td>\n",
       "      <td>Out of Stock</td>\n",
       "      <td>20/12/2022</td>\n",
       "    </tr>\n",
       "    <tr>\n",
       "      <th>8</th>\n",
       "      <td>1614</td>\n",
       "      <td>gadget y</td>\n",
       "      <td>ELECTRONICS</td>\n",
       "      <td>Warehouse 3</td>\n",
       "      <td>Aisle 3</td>\n",
       "      <td>300</td>\n",
       "      <td>9.99</td>\n",
       "      <td>Supplier B</td>\n",
       "      <td>Out of Stock</td>\n",
       "      <td>05/03/2023</td>\n",
       "    </tr>\n",
       "    <tr>\n",
       "      <th>9</th>\n",
       "      <td>1121</td>\n",
       "      <td>widget b</td>\n",
       "      <td>TOYS</td>\n",
       "      <td>Warehouse 1</td>\n",
       "      <td>Aisle 2</td>\n",
       "      <td>50</td>\n",
       "      <td>19.99</td>\n",
       "      <td>Supplier C</td>\n",
       "      <td>Out of Stock</td>\n",
       "      <td>20/12/2022</td>\n",
       "    </tr>\n",
       "  </tbody>\n",
       "</table>\n",
       "</div>"
      ],
      "text/plain": [
       "   Product ID Product Name     Category    Warehouse Location     Quantity  \\\n",
       "0        1102    gadget y   ELECTRONICS  Warehouse 2  Aisle 1          300   \n",
       "1        1435    gadget y   ELECTRONICS  Warehouse 2  Aisle 4  two hundred   \n",
       "2        1860    widget a      CLOTHING  Warehouse 2  Aisle 3          100   \n",
       "3        1270    gadget z          TOYS  Warehouse 2  Aisle 4           50   \n",
       "4        1106    widget a     FURNITURE  Warehouse 3  Aisle 3  two hundred   \n",
       "5        1071    widget b      CLOTHING  Warehouse 3  Aisle 5          300   \n",
       "6        1700    widget a      CLOTHING  Warehouse 2  Aisle 2  two hundred   \n",
       "7        1020    widget c      CLOTHING  Warehouse 1  Aisle 5  two hundred   \n",
       "8        1614    gadget y   ELECTRONICS  Warehouse 3  Aisle 3          300   \n",
       "9        1121    widget b          TOYS  Warehouse 1  Aisle 2           50   \n",
       "\n",
       "   Price    Supplier        Status Last Restocked  \n",
       "0   9.99  Supplier C      In Stock            NaN  \n",
       "1  19.99  Supplier C  Out of Stock            NaN  \n",
       "2  19.99  Supplier B      In Stock     20/12/2022  \n",
       "3  49.99  Supplier B      In Stock     20/12/2022  \n",
       "4   9.99  Supplier D  Out of Stock     25/04/2023  \n",
       "5    NaN  Supplier A      In Stock     20/12/2022  \n",
       "6  49.99  Supplier B      In Stock     20/12/2022  \n",
       "7   9.99  Supplier D  Out of Stock     20/12/2022  \n",
       "8   9.99  Supplier B  Out of Stock     05/03/2023  \n",
       "9  19.99  Supplier C  Out of Stock     20/12/2022  "
      ]
     },
     "execution_count": 439,
     "metadata": {},
     "output_type": "execute_result"
    }
   ],
   "source": [
    "df.head(10)"
   ]
  },
  {
   "cell_type": "code",
   "execution_count": 441,
   "id": "a467c4f6-c253-4ef5-9ce7-67108c2a2962",
   "metadata": {},
   "outputs": [
    {
     "data": {
      "text/plain": [
       "Index(['Product ID', 'Product Name', 'Category', 'Warehouse', 'Location',\n",
       "       'Quantity', 'Price', 'Supplier', 'Status', 'Last Restocked'],\n",
       "      dtype='object')"
      ]
     },
     "execution_count": 441,
     "metadata": {},
     "output_type": "execute_result"
    }
   ],
   "source": [
    "df.columns"
   ]
  },
  {
   "cell_type": "code",
   "execution_count": 443,
   "id": "43d4ba3e-f9ed-43f7-9780-dc79cb1e4e48",
   "metadata": {},
   "outputs": [],
   "source": [
    "df[\"Product Name\"] = df[\"Product Name\"].str.title()"
   ]
  },
  {
   "cell_type": "code",
   "execution_count": 445,
   "id": "8852803e-2556-4521-b985-5fb6c6639fe6",
   "metadata": {},
   "outputs": [
    {
     "data": {
      "text/plain": [
       "Index(['Product ID', 'Product Name', 'Category', 'Warehouse', 'Location',\n",
       "       'Quantity', 'Price', 'Supplier', 'Status', 'Last Restocked'],\n",
       "      dtype='object')"
      ]
     },
     "execution_count": 445,
     "metadata": {},
     "output_type": "execute_result"
    }
   ],
   "source": [
    "df.columns"
   ]
  },
  {
   "cell_type": "code",
   "execution_count": 447,
   "id": "0412dd99-e14f-45af-a08b-311ade9f332d",
   "metadata": {},
   "outputs": [],
   "source": [
    "df[\"Category\"] = df[\"Category\"].str.capitalize()"
   ]
  },
  {
   "cell_type": "code",
   "execution_count": 449,
   "id": "860e547e-ed27-42fa-9ddb-483df3155f86",
   "metadata": {},
   "outputs": [
    {
     "data": {
      "text/plain": [
       "Index(['Product ID', 'Product Name', 'Category', 'Warehouse', 'Location',\n",
       "       'Quantity', 'Price', 'Supplier', 'Status', 'Last Restocked'],\n",
       "      dtype='object')"
      ]
     },
     "execution_count": 449,
     "metadata": {},
     "output_type": "execute_result"
    }
   ],
   "source": [
    "df.columns"
   ]
  },
  {
   "cell_type": "code",
   "execution_count": null,
   "id": "ef672280-d619-40d5-a4ef-3dc5a7618fd4",
   "metadata": {},
   "outputs": [],
   "source": []
  },
  {
   "cell_type": "markdown",
   "id": "bafd49f9-61e3-4fb6-a1c8-e02b39673024",
   "metadata": {},
   "source": [
    "# Correcting and Converting Data Types"
   ]
  },
  {
   "cell_type": "code",
   "execution_count": 453,
   "id": "bf4931cc-1c93-4ffb-85dd-1ca008eb7631",
   "metadata": {},
   "outputs": [
    {
     "name": "stdout",
     "output_type": "stream",
     "text": [
      "<class 'pandas.core.frame.DataFrame'>\n",
      "RangeIndex: 1000 entries, 0 to 999\n",
      "Data columns (total 10 columns):\n",
      " #   Column          Non-Null Count  Dtype  \n",
      "---  ------          --------------  -----  \n",
      " 0   Product ID      1000 non-null   int64  \n",
      " 1   Product Name    1000 non-null   object \n",
      " 2   Category        1000 non-null   object \n",
      " 3   Warehouse       1000 non-null   object \n",
      " 4   Location        1000 non-null   object \n",
      " 5   Quantity        842 non-null    object \n",
      " 6   Price           793 non-null    float64\n",
      " 7   Supplier        1000 non-null   object \n",
      " 8   Status          1000 non-null   object \n",
      " 9   Last Restocked  800 non-null    object \n",
      "dtypes: float64(1), int64(1), object(8)\n",
      "memory usage: 78.3+ KB\n"
     ]
    }
   ],
   "source": [
    "df.info()"
   ]
  },
  {
   "cell_type": "code",
   "execution_count": 455,
   "id": "71dc7f17-1e11-4507-abb3-74a40e60ef30",
   "metadata": {},
   "outputs": [],
   "source": [
    "# Correcting the Quantity column\n",
    "df[\"Quantity\"] = df[\"Quantity\"].replace(\"two hundred\", 200)\n",
    "\n",
    "df[\"Quantity\"] = df[\"Quantity\"].replace(\"NaN\", np.nan)\n",
    "\n",
    "# convert to numeric\n",
    "df[\"Quantity\"] = pd.to_numeric(df[\"Quantity\"], errors=\"coerce\")"
   ]
  },
  {
   "cell_type": "code",
   "execution_count": 457,
   "id": "5ec71d09-4fec-4d87-b6ee-dadc4acf096c",
   "metadata": {},
   "outputs": [
    {
     "data": {
      "text/html": [
       "<div>\n",
       "<style scoped>\n",
       "    .dataframe tbody tr th:only-of-type {\n",
       "        vertical-align: middle;\n",
       "    }\n",
       "\n",
       "    .dataframe tbody tr th {\n",
       "        vertical-align: top;\n",
       "    }\n",
       "\n",
       "    .dataframe thead th {\n",
       "        text-align: right;\n",
       "    }\n",
       "</style>\n",
       "<table border=\"1\" class=\"dataframe\">\n",
       "  <thead>\n",
       "    <tr style=\"text-align: right;\">\n",
       "      <th></th>\n",
       "      <th>Product ID</th>\n",
       "      <th>Product Name</th>\n",
       "      <th>Category</th>\n",
       "      <th>Warehouse</th>\n",
       "      <th>Location</th>\n",
       "      <th>Quantity</th>\n",
       "      <th>Price</th>\n",
       "      <th>Supplier</th>\n",
       "      <th>Status</th>\n",
       "      <th>Last Restocked</th>\n",
       "    </tr>\n",
       "  </thead>\n",
       "  <tbody>\n",
       "    <tr>\n",
       "      <th>0</th>\n",
       "      <td>1102</td>\n",
       "      <td>Gadget Y</td>\n",
       "      <td>Electronics</td>\n",
       "      <td>Warehouse 2</td>\n",
       "      <td>Aisle 1</td>\n",
       "      <td>300.0</td>\n",
       "      <td>9.99</td>\n",
       "      <td>Supplier C</td>\n",
       "      <td>In Stock</td>\n",
       "      <td>NaN</td>\n",
       "    </tr>\n",
       "    <tr>\n",
       "      <th>1</th>\n",
       "      <td>1435</td>\n",
       "      <td>Gadget Y</td>\n",
       "      <td>Electronics</td>\n",
       "      <td>Warehouse 2</td>\n",
       "      <td>Aisle 4</td>\n",
       "      <td>200.0</td>\n",
       "      <td>19.99</td>\n",
       "      <td>Supplier C</td>\n",
       "      <td>Out of Stock</td>\n",
       "      <td>NaN</td>\n",
       "    </tr>\n",
       "    <tr>\n",
       "      <th>2</th>\n",
       "      <td>1860</td>\n",
       "      <td>Widget A</td>\n",
       "      <td>Clothing</td>\n",
       "      <td>Warehouse 2</td>\n",
       "      <td>Aisle 3</td>\n",
       "      <td>100.0</td>\n",
       "      <td>19.99</td>\n",
       "      <td>Supplier B</td>\n",
       "      <td>In Stock</td>\n",
       "      <td>20/12/2022</td>\n",
       "    </tr>\n",
       "    <tr>\n",
       "      <th>3</th>\n",
       "      <td>1270</td>\n",
       "      <td>Gadget Z</td>\n",
       "      <td>Toys</td>\n",
       "      <td>Warehouse 2</td>\n",
       "      <td>Aisle 4</td>\n",
       "      <td>50.0</td>\n",
       "      <td>49.99</td>\n",
       "      <td>Supplier B</td>\n",
       "      <td>In Stock</td>\n",
       "      <td>20/12/2022</td>\n",
       "    </tr>\n",
       "    <tr>\n",
       "      <th>4</th>\n",
       "      <td>1106</td>\n",
       "      <td>Widget A</td>\n",
       "      <td>Furniture</td>\n",
       "      <td>Warehouse 3</td>\n",
       "      <td>Aisle 3</td>\n",
       "      <td>200.0</td>\n",
       "      <td>9.99</td>\n",
       "      <td>Supplier D</td>\n",
       "      <td>Out of Stock</td>\n",
       "      <td>25/04/2023</td>\n",
       "    </tr>\n",
       "  </tbody>\n",
       "</table>\n",
       "</div>"
      ],
      "text/plain": [
       "   Product ID Product Name     Category    Warehouse Location  Quantity  \\\n",
       "0        1102    Gadget Y   Electronics  Warehouse 2  Aisle 1     300.0   \n",
       "1        1435    Gadget Y   Electronics  Warehouse 2  Aisle 4     200.0   \n",
       "2        1860    Widget A      Clothing  Warehouse 2  Aisle 3     100.0   \n",
       "3        1270    Gadget Z          Toys  Warehouse 2  Aisle 4      50.0   \n",
       "4        1106    Widget A     Furniture  Warehouse 3  Aisle 3     200.0   \n",
       "\n",
       "   Price    Supplier        Status Last Restocked  \n",
       "0   9.99  Supplier C      In Stock            NaN  \n",
       "1  19.99  Supplier C  Out of Stock            NaN  \n",
       "2  19.99  Supplier B      In Stock     20/12/2022  \n",
       "3  49.99  Supplier B      In Stock     20/12/2022  \n",
       "4   9.99  Supplier D  Out of Stock     25/04/2023  "
      ]
     },
     "execution_count": 457,
     "metadata": {},
     "output_type": "execute_result"
    }
   ],
   "source": [
    "df.head()"
   ]
  },
  {
   "cell_type": "code",
   "execution_count": 459,
   "id": "a0894376-b37b-4c9d-b0b7-b328f3412bad",
   "metadata": {},
   "outputs": [
    {
     "name": "stdout",
     "output_type": "stream",
     "text": [
      "<class 'pandas.core.frame.DataFrame'>\n",
      "RangeIndex: 1000 entries, 0 to 999\n",
      "Data columns (total 10 columns):\n",
      " #   Column          Non-Null Count  Dtype  \n",
      "---  ------          --------------  -----  \n",
      " 0   Product ID      1000 non-null   int64  \n",
      " 1   Product Name    1000 non-null   object \n",
      " 2   Category        1000 non-null   object \n",
      " 3   Warehouse       1000 non-null   object \n",
      " 4   Location        1000 non-null   object \n",
      " 5   Quantity        842 non-null    float64\n",
      " 6   Price           793 non-null    float64\n",
      " 7   Supplier        1000 non-null   object \n",
      " 8   Status          1000 non-null   object \n",
      " 9   Last Restocked  800 non-null    object \n",
      "dtypes: float64(2), int64(1), object(7)\n",
      "memory usage: 78.3+ KB\n"
     ]
    }
   ],
   "source": [
    "df.info()"
   ]
  },
  {
   "cell_type": "code",
   "execution_count": 461,
   "id": "5967f0ef-df3b-424e-8e08-03f06a4a9f60",
   "metadata": {},
   "outputs": [],
   "source": [
    "# Correct the Price column\n",
    "\n",
    "df[\"Price\"] = df[\"Price\"].replace(\"NaN\", np.nan)\n",
    "\n",
    "df[\"Price\"] = pd.to_numeric(df[\"Price\"], errors=\"coerce\")"
   ]
  },
  {
   "cell_type": "code",
   "execution_count": 463,
   "id": "ddebda91-cbb9-4db1-a5b4-6541601edc52",
   "metadata": {},
   "outputs": [
    {
     "name": "stderr",
     "output_type": "stream",
     "text": [
      "C:\\Users\\Pet3r\\AppData\\Local\\Temp\\ipykernel_21040\\56104368.py:4: UserWarning: Parsing dates in %d/%m/%Y format when dayfirst=False (the default) was specified. Pass `dayfirst=True` or specify a format to silence this warning.\n",
      "  df[\"Last Restocked\"] = pd.to_datetime(df[\"Last Restocked\"], errors=\"coerce\")\n"
     ]
    }
   ],
   "source": [
    "# Correct the Last Restocked column\n",
    "df[\"Last Restocked\"] = df[\"Last Restocked\"].replace(\"NaN\", np.nan)\n",
    "\n",
    "df[\"Last Restocked\"] = pd.to_datetime(df[\"Last Restocked\"], errors=\"coerce\")"
   ]
  },
  {
   "cell_type": "code",
   "execution_count": 465,
   "id": "31fc0335-7438-4f89-a375-5ee25055572f",
   "metadata": {},
   "outputs": [
    {
     "data": {
      "text/html": [
       "<div>\n",
       "<style scoped>\n",
       "    .dataframe tbody tr th:only-of-type {\n",
       "        vertical-align: middle;\n",
       "    }\n",
       "\n",
       "    .dataframe tbody tr th {\n",
       "        vertical-align: top;\n",
       "    }\n",
       "\n",
       "    .dataframe thead th {\n",
       "        text-align: right;\n",
       "    }\n",
       "</style>\n",
       "<table border=\"1\" class=\"dataframe\">\n",
       "  <thead>\n",
       "    <tr style=\"text-align: right;\">\n",
       "      <th></th>\n",
       "      <th>Product ID</th>\n",
       "      <th>Product Name</th>\n",
       "      <th>Category</th>\n",
       "      <th>Warehouse</th>\n",
       "      <th>Location</th>\n",
       "      <th>Quantity</th>\n",
       "      <th>Price</th>\n",
       "      <th>Supplier</th>\n",
       "      <th>Status</th>\n",
       "      <th>Last Restocked</th>\n",
       "    </tr>\n",
       "  </thead>\n",
       "  <tbody>\n",
       "    <tr>\n",
       "      <th>0</th>\n",
       "      <td>1102</td>\n",
       "      <td>Gadget Y</td>\n",
       "      <td>Electronics</td>\n",
       "      <td>Warehouse 2</td>\n",
       "      <td>Aisle 1</td>\n",
       "      <td>300.0</td>\n",
       "      <td>9.99</td>\n",
       "      <td>Supplier C</td>\n",
       "      <td>In Stock</td>\n",
       "      <td>NaT</td>\n",
       "    </tr>\n",
       "    <tr>\n",
       "      <th>1</th>\n",
       "      <td>1435</td>\n",
       "      <td>Gadget Y</td>\n",
       "      <td>Electronics</td>\n",
       "      <td>Warehouse 2</td>\n",
       "      <td>Aisle 4</td>\n",
       "      <td>200.0</td>\n",
       "      <td>19.99</td>\n",
       "      <td>Supplier C</td>\n",
       "      <td>Out of Stock</td>\n",
       "      <td>NaT</td>\n",
       "    </tr>\n",
       "    <tr>\n",
       "      <th>2</th>\n",
       "      <td>1860</td>\n",
       "      <td>Widget A</td>\n",
       "      <td>Clothing</td>\n",
       "      <td>Warehouse 2</td>\n",
       "      <td>Aisle 3</td>\n",
       "      <td>100.0</td>\n",
       "      <td>19.99</td>\n",
       "      <td>Supplier B</td>\n",
       "      <td>In Stock</td>\n",
       "      <td>2022-12-20</td>\n",
       "    </tr>\n",
       "    <tr>\n",
       "      <th>3</th>\n",
       "      <td>1270</td>\n",
       "      <td>Gadget Z</td>\n",
       "      <td>Toys</td>\n",
       "      <td>Warehouse 2</td>\n",
       "      <td>Aisle 4</td>\n",
       "      <td>50.0</td>\n",
       "      <td>49.99</td>\n",
       "      <td>Supplier B</td>\n",
       "      <td>In Stock</td>\n",
       "      <td>2022-12-20</td>\n",
       "    </tr>\n",
       "    <tr>\n",
       "      <th>4</th>\n",
       "      <td>1106</td>\n",
       "      <td>Widget A</td>\n",
       "      <td>Furniture</td>\n",
       "      <td>Warehouse 3</td>\n",
       "      <td>Aisle 3</td>\n",
       "      <td>200.0</td>\n",
       "      <td>9.99</td>\n",
       "      <td>Supplier D</td>\n",
       "      <td>Out of Stock</td>\n",
       "      <td>2023-04-25</td>\n",
       "    </tr>\n",
       "  </tbody>\n",
       "</table>\n",
       "</div>"
      ],
      "text/plain": [
       "   Product ID Product Name     Category    Warehouse Location  Quantity  \\\n",
       "0        1102    Gadget Y   Electronics  Warehouse 2  Aisle 1     300.0   \n",
       "1        1435    Gadget Y   Electronics  Warehouse 2  Aisle 4     200.0   \n",
       "2        1860    Widget A      Clothing  Warehouse 2  Aisle 3     100.0   \n",
       "3        1270    Gadget Z          Toys  Warehouse 2  Aisle 4      50.0   \n",
       "4        1106    Widget A     Furniture  Warehouse 3  Aisle 3     200.0   \n",
       "\n",
       "   Price    Supplier        Status Last Restocked  \n",
       "0   9.99  Supplier C      In Stock            NaT  \n",
       "1  19.99  Supplier C  Out of Stock            NaT  \n",
       "2  19.99  Supplier B      In Stock     2022-12-20  \n",
       "3  49.99  Supplier B      In Stock     2022-12-20  \n",
       "4   9.99  Supplier D  Out of Stock     2023-04-25  "
      ]
     },
     "execution_count": 465,
     "metadata": {},
     "output_type": "execute_result"
    }
   ],
   "source": [
    "df.head()"
   ]
  },
  {
   "cell_type": "code",
   "execution_count": 467,
   "id": "cb50062f-68ae-4919-91c3-e29731e197af",
   "metadata": {},
   "outputs": [
    {
     "name": "stdout",
     "output_type": "stream",
     "text": [
      "<class 'pandas.core.frame.DataFrame'>\n",
      "RangeIndex: 1000 entries, 0 to 999\n",
      "Data columns (total 10 columns):\n",
      " #   Column          Non-Null Count  Dtype         \n",
      "---  ------          --------------  -----         \n",
      " 0   Product ID      1000 non-null   int64         \n",
      " 1   Product Name    1000 non-null   object        \n",
      " 2   Category        1000 non-null   object        \n",
      " 3   Warehouse       1000 non-null   object        \n",
      " 4   Location        1000 non-null   object        \n",
      " 5   Quantity        842 non-null    float64       \n",
      " 6   Price           793 non-null    float64       \n",
      " 7   Supplier        1000 non-null   object        \n",
      " 8   Status          1000 non-null   object        \n",
      " 9   Last Restocked  800 non-null    datetime64[ns]\n",
      "dtypes: datetime64[ns](1), float64(2), int64(1), object(6)\n",
      "memory usage: 78.3+ KB\n"
     ]
    }
   ],
   "source": [
    "df.info()"
   ]
  },
  {
   "cell_type": "code",
   "execution_count": null,
   "id": "86abcbee-f023-480e-9b3f-37e526d9bade",
   "metadata": {},
   "outputs": [],
   "source": []
  },
  {
   "cell_type": "markdown",
   "id": "5f147f4d-350e-4e10-8c6e-c78d0ff1dd27",
   "metadata": {},
   "source": [
    "# Handling Missing Values"
   ]
  },
  {
   "cell_type": "code",
   "execution_count": 471,
   "id": "5ce021de-037b-4fcf-b8e7-6d509a39621f",
   "metadata": {},
   "outputs": [
    {
     "data": {
      "text/html": [
       "<div>\n",
       "<style scoped>\n",
       "    .dataframe tbody tr th:only-of-type {\n",
       "        vertical-align: middle;\n",
       "    }\n",
       "\n",
       "    .dataframe tbody tr th {\n",
       "        vertical-align: top;\n",
       "    }\n",
       "\n",
       "    .dataframe thead th {\n",
       "        text-align: right;\n",
       "    }\n",
       "</style>\n",
       "<table border=\"1\" class=\"dataframe\">\n",
       "  <thead>\n",
       "    <tr style=\"text-align: right;\">\n",
       "      <th></th>\n",
       "      <th>Product ID</th>\n",
       "      <th>Quantity</th>\n",
       "      <th>Price</th>\n",
       "      <th>Last Restocked</th>\n",
       "    </tr>\n",
       "  </thead>\n",
       "  <tbody>\n",
       "    <tr>\n",
       "      <th>count</th>\n",
       "      <td>1000.000000</td>\n",
       "      <td>842.000000</td>\n",
       "      <td>793.000000</td>\n",
       "      <td>800</td>\n",
       "    </tr>\n",
       "    <tr>\n",
       "      <th>mean</th>\n",
       "      <td>1503.929000</td>\n",
       "      <td>161.401425</td>\n",
       "      <td>28.085839</td>\n",
       "      <td>2023-02-12 14:43:48.000000256</td>\n",
       "    </tr>\n",
       "    <tr>\n",
       "      <th>min</th>\n",
       "      <td>1000.000000</td>\n",
       "      <td>50.000000</td>\n",
       "      <td>9.990000</td>\n",
       "      <td>2022-12-20 00:00:00</td>\n",
       "    </tr>\n",
       "    <tr>\n",
       "      <th>25%</th>\n",
       "      <td>1242.750000</td>\n",
       "      <td>100.000000</td>\n",
       "      <td>19.990000</td>\n",
       "      <td>2022-12-20 00:00:00</td>\n",
       "    </tr>\n",
       "    <tr>\n",
       "      <th>50%</th>\n",
       "      <td>1505.000000</td>\n",
       "      <td>150.000000</td>\n",
       "      <td>29.990000</td>\n",
       "      <td>2023-01-15 00:00:00</td>\n",
       "    </tr>\n",
       "    <tr>\n",
       "      <th>75%</th>\n",
       "      <td>1757.250000</td>\n",
       "      <td>200.000000</td>\n",
       "      <td>49.990000</td>\n",
       "      <td>2023-03-05 00:00:00</td>\n",
       "    </tr>\n",
       "    <tr>\n",
       "      <th>max</th>\n",
       "      <td>1998.000000</td>\n",
       "      <td>300.000000</td>\n",
       "      <td>49.990000</td>\n",
       "      <td>2023-04-25 00:00:00</td>\n",
       "    </tr>\n",
       "    <tr>\n",
       "      <th>std</th>\n",
       "      <td>289.998108</td>\n",
       "      <td>87.000118</td>\n",
       "      <td>14.686312</td>\n",
       "      <td>NaN</td>\n",
       "    </tr>\n",
       "  </tbody>\n",
       "</table>\n",
       "</div>"
      ],
      "text/plain": [
       "        Product ID    Quantity       Price                 Last Restocked\n",
       "count  1000.000000  842.000000  793.000000                            800\n",
       "mean   1503.929000  161.401425   28.085839  2023-02-12 14:43:48.000000256\n",
       "min    1000.000000   50.000000    9.990000            2022-12-20 00:00:00\n",
       "25%    1242.750000  100.000000   19.990000            2022-12-20 00:00:00\n",
       "50%    1505.000000  150.000000   29.990000            2023-01-15 00:00:00\n",
       "75%    1757.250000  200.000000   49.990000            2023-03-05 00:00:00\n",
       "max    1998.000000  300.000000   49.990000            2023-04-25 00:00:00\n",
       "std     289.998108   87.000118   14.686312                            NaN"
      ]
     },
     "execution_count": 471,
     "metadata": {},
     "output_type": "execute_result"
    }
   ],
   "source": [
    "df.describe()"
   ]
  },
  {
   "cell_type": "code",
   "execution_count": 473,
   "id": "b0d3f0ba-8089-419d-8465-4d2883593187",
   "metadata": {},
   "outputs": [
    {
     "data": {
      "text/plain": [
       "np.float64(161.40142517814726)"
      ]
     },
     "execution_count": 473,
     "metadata": {},
     "output_type": "execute_result"
    }
   ],
   "source": [
    "df[\"Quantity\"].mean()"
   ]
  },
  {
   "cell_type": "code",
   "execution_count": 475,
   "id": "66be4e3e-713a-4f57-a025-67f8aa2f9f08",
   "metadata": {},
   "outputs": [
    {
     "data": {
      "text/plain": [
       "np.float64(150.0)"
      ]
     },
     "execution_count": 475,
     "metadata": {},
     "output_type": "execute_result"
    }
   ],
   "source": [
    "df[\"Quantity\"].median()"
   ]
  },
  {
   "cell_type": "code",
   "execution_count": 477,
   "id": "2bb7b30d-a2cc-4f94-b69d-fc75474a9bbc",
   "metadata": {},
   "outputs": [
    {
     "data": {
      "text/plain": [
       "np.float64(0.3787833111883261)"
      ]
     },
     "execution_count": 477,
     "metadata": {},
     "output_type": "execute_result"
    }
   ],
   "source": [
    "df[\"Quantity\"].skew()"
   ]
  },
  {
   "cell_type": "code",
   "execution_count": 479,
   "id": "d9017764-97e2-4325-9cb7-4d279cfdcdd3",
   "metadata": {},
   "outputs": [
    {
     "name": "stderr",
     "output_type": "stream",
     "text": [
      "C:\\Users\\Pet3r\\AppData\\Local\\Temp\\ipykernel_21040\\193159115.py:3: FutureWarning: A value is trying to be set on a copy of a DataFrame or Series through chained assignment using an inplace method.\n",
      "The behavior will change in pandas 3.0. This inplace method will never work because the intermediate object on which we are setting values always behaves as a copy.\n",
      "\n",
      "For example, when doing 'df[col].method(value, inplace=True)', try using 'df.method({col: value}, inplace=True)' or df[col] = df[col].method(value) instead, to perform the operation inplace on the original object.\n",
      "\n",
      "\n",
      "  df[\"Quantity\"].fillna(df[\"Quantity\"].mean(), inplace=True)\n"
     ]
    }
   ],
   "source": [
    "# Fill NaN values with a default strategy, here we use mean\n",
    "\n",
    "df[\"Quantity\"].fillna(df[\"Quantity\"].mean(), inplace=True)"
   ]
  },
  {
   "cell_type": "code",
   "execution_count": 481,
   "id": "63b07fe1-477b-4293-b4a7-bfbfe4416d46",
   "metadata": {},
   "outputs": [
    {
     "data": {
      "text/plain": [
       "np.float64(28.08583858764187)"
      ]
     },
     "execution_count": 481,
     "metadata": {},
     "output_type": "execute_result"
    }
   ],
   "source": [
    "df[\"Price\"].mean()"
   ]
  },
  {
   "cell_type": "code",
   "execution_count": 483,
   "id": "5af67847-f11f-45ff-a755-559901eb56d6",
   "metadata": {},
   "outputs": [
    {
     "data": {
      "text/plain": [
       "np.float64(29.99)"
      ]
     },
     "execution_count": 483,
     "metadata": {},
     "output_type": "execute_result"
    }
   ],
   "source": [
    "df[\"Price\"].median()"
   ]
  },
  {
   "cell_type": "code",
   "execution_count": 485,
   "id": "eebf71da-78c1-4272-94be-6d25214301d2",
   "metadata": {},
   "outputs": [
    {
     "data": {
      "text/plain": [
       "np.float64(0.3869429855327663)"
      ]
     },
     "execution_count": 485,
     "metadata": {},
     "output_type": "execute_result"
    }
   ],
   "source": [
    "df[\"Price\"].skew()"
   ]
  },
  {
   "cell_type": "code",
   "execution_count": 487,
   "id": "57da83ec-c6c8-483b-b4b2-0433c0c38025",
   "metadata": {},
   "outputs": [
    {
     "name": "stderr",
     "output_type": "stream",
     "text": [
      "C:\\Users\\Pet3r\\AppData\\Local\\Temp\\ipykernel_21040\\3683218402.py:3: FutureWarning: A value is trying to be set on a copy of a DataFrame or Series through chained assignment using an inplace method.\n",
      "The behavior will change in pandas 3.0. This inplace method will never work because the intermediate object on which we are setting values always behaves as a copy.\n",
      "\n",
      "For example, when doing 'df[col].method(value, inplace=True)', try using 'df.method({col: value}, inplace=True)' or df[col] = df[col].method(value) instead, to perform the operation inplace on the original object.\n",
      "\n",
      "\n",
      "  df[\"Price\"].fillna(df[\"Price\"].mean(), inplace=True)\n"
     ]
    }
   ],
   "source": [
    "# Fill NaN for Price with startegy using the mean\n",
    "\n",
    "df[\"Price\"].fillna(df[\"Price\"].mean(), inplace=True)"
   ]
  },
  {
   "cell_type": "code",
   "execution_count": 489,
   "id": "733393c6-5f56-4b94-a90d-f1b1021387e4",
   "metadata": {},
   "outputs": [
    {
     "name": "stderr",
     "output_type": "stream",
     "text": [
      "C:\\Users\\Pet3r\\AppData\\Local\\Temp\\ipykernel_21040\\536959857.py:3: FutureWarning: A value is trying to be set on a copy of a DataFrame or Series through chained assignment using an inplace method.\n",
      "The behavior will change in pandas 3.0. This inplace method will never work because the intermediate object on which we are setting values always behaves as a copy.\n",
      "\n",
      "For example, when doing 'df[col].method(value, inplace=True)', try using 'df.method({col: value}, inplace=True)' or df[col] = df[col].method(value) instead, to perform the operation inplace on the original object.\n",
      "\n",
      "\n",
      "  df[\"Product Name\"].fillna(\"Unknown Product\", inplace=True)\n",
      "C:\\Users\\Pet3r\\AppData\\Local\\Temp\\ipykernel_21040\\536959857.py:5: FutureWarning: A value is trying to be set on a copy of a DataFrame or Series through chained assignment using an inplace method.\n",
      "The behavior will change in pandas 3.0. This inplace method will never work because the intermediate object on which we are setting values always behaves as a copy.\n",
      "\n",
      "For example, when doing 'df[col].method(value, inplace=True)', try using 'df.method({col: value}, inplace=True)' or df[col] = df[col].method(value) instead, to perform the operation inplace on the original object.\n",
      "\n",
      "\n",
      "  df[\"Category\"].fillna(\"Unknown Categoty\", inplace=True)\n",
      "C:\\Users\\Pet3r\\AppData\\Local\\Temp\\ipykernel_21040\\536959857.py:7: FutureWarning: A value is trying to be set on a copy of a DataFrame or Series through chained assignment using an inplace method.\n",
      "The behavior will change in pandas 3.0. This inplace method will never work because the intermediate object on which we are setting values always behaves as a copy.\n",
      "\n",
      "For example, when doing 'df[col].method(value, inplace=True)', try using 'df.method({col: value}, inplace=True)' or df[col] = df[col].method(value) instead, to perform the operation inplace on the original object.\n",
      "\n",
      "\n",
      "  df[\"Warehouse\"].fillna(df[\"Warehouse\"].mode()[0], inplace=True)\n",
      "C:\\Users\\Pet3r\\AppData\\Local\\Temp\\ipykernel_21040\\536959857.py:9: FutureWarning: A value is trying to be set on a copy of a DataFrame or Series through chained assignment using an inplace method.\n",
      "The behavior will change in pandas 3.0. This inplace method will never work because the intermediate object on which we are setting values always behaves as a copy.\n",
      "\n",
      "For example, when doing 'df[col].method(value, inplace=True)', try using 'df.method({col: value}, inplace=True)' or df[col] = df[col].method(value) instead, to perform the operation inplace on the original object.\n",
      "\n",
      "\n",
      "  df[\"Location\"].fillna(\"Unknown Location\", inplace=True)\n",
      "C:\\Users\\Pet3r\\AppData\\Local\\Temp\\ipykernel_21040\\536959857.py:11: FutureWarning: A value is trying to be set on a copy of a DataFrame or Series through chained assignment using an inplace method.\n",
      "The behavior will change in pandas 3.0. This inplace method will never work because the intermediate object on which we are setting values always behaves as a copy.\n",
      "\n",
      "For example, when doing 'df[col].method(value, inplace=True)', try using 'df.method({col: value}, inplace=True)' or df[col] = df[col].method(value) instead, to perform the operation inplace on the original object.\n",
      "\n",
      "\n",
      "  df[\"Supplier\"].fillna(df[\"Supplier\"].mode()[0], inplace=True)\n",
      "C:\\Users\\Pet3r\\AppData\\Local\\Temp\\ipykernel_21040\\536959857.py:13: FutureWarning: A value is trying to be set on a copy of a DataFrame or Series through chained assignment using an inplace method.\n",
      "The behavior will change in pandas 3.0. This inplace method will never work because the intermediate object on which we are setting values always behaves as a copy.\n",
      "\n",
      "For example, when doing 'df[col].method(value, inplace=True)', try using 'df.method({col: value}, inplace=True)' or df[col] = df[col].method(value) instead, to perform the operation inplace on the original object.\n",
      "\n",
      "\n",
      "  df[\"Status\"].fillna(df[\"Status\"].mode()[0], inplace=True)\n",
      "C:\\Users\\Pet3r\\AppData\\Local\\Temp\\ipykernel_21040\\536959857.py:15: FutureWarning: A value is trying to be set on a copy of a DataFrame or Series through chained assignment using an inplace method.\n",
      "The behavior will change in pandas 3.0. This inplace method will never work because the intermediate object on which we are setting values always behaves as a copy.\n",
      "\n",
      "For example, when doing 'df[col].method(value, inplace=True)', try using 'df.method({col: value}, inplace=True)' or df[col] = df[col].method(value) instead, to perform the operation inplace on the original object.\n",
      "\n",
      "\n",
      "  df[\"Last Restocked\"].fillna(pd.to_datetime(\"today\"), inplace=True)\n"
     ]
    }
   ],
   "source": [
    "# Fill NaN values for categorical columns with a placeholder or most frequent value (Mode)\n",
    "\n",
    "df[\"Product Name\"].fillna(\"Unknown Product\", inplace=True)\n",
    "\n",
    "df[\"Category\"].fillna(\"Unknown Categoty\", inplace=True)\n",
    "\n",
    "df[\"Warehouse\"].fillna(df[\"Warehouse\"].mode()[0], inplace=True)\n",
    "\n",
    "df[\"Location\"].fillna(\"Unknown Location\", inplace=True)\n",
    "\n",
    "df[\"Supplier\"].fillna(df[\"Supplier\"].mode()[0], inplace=True)\n",
    "\n",
    "df[\"Status\"].fillna(df[\"Status\"].mode()[0], inplace=True)\n",
    "\n",
    "df[\"Last Restocked\"].fillna(pd.to_datetime(\"today\"), inplace=True)"
   ]
  },
  {
   "cell_type": "code",
   "execution_count": 491,
   "id": "7c2b63b5-5a59-410b-8d3f-e559a324d821",
   "metadata": {},
   "outputs": [
    {
     "data": {
      "text/plain": [
       "Index(['Product ID', 'Product Name', 'Category', 'Warehouse', 'Location',\n",
       "       'Quantity', 'Price', 'Supplier', 'Status', 'Last Restocked'],\n",
       "      dtype='object')"
      ]
     },
     "execution_count": 491,
     "metadata": {},
     "output_type": "execute_result"
    }
   ],
   "source": [
    "df.columns"
   ]
  },
  {
   "cell_type": "code",
   "execution_count": 493,
   "id": "91648962-a3e3-4a3a-9ce5-7e32ba681335",
   "metadata": {},
   "outputs": [
    {
     "data": {
      "text/html": [
       "<div>\n",
       "<style scoped>\n",
       "    .dataframe tbody tr th:only-of-type {\n",
       "        vertical-align: middle;\n",
       "    }\n",
       "\n",
       "    .dataframe tbody tr th {\n",
       "        vertical-align: top;\n",
       "    }\n",
       "\n",
       "    .dataframe thead th {\n",
       "        text-align: right;\n",
       "    }\n",
       "</style>\n",
       "<table border=\"1\" class=\"dataframe\">\n",
       "  <thead>\n",
       "    <tr style=\"text-align: right;\">\n",
       "      <th></th>\n",
       "      <th>Product ID</th>\n",
       "      <th>Product Name</th>\n",
       "      <th>Category</th>\n",
       "      <th>Warehouse</th>\n",
       "      <th>Location</th>\n",
       "      <th>Quantity</th>\n",
       "      <th>Price</th>\n",
       "      <th>Supplier</th>\n",
       "      <th>Status</th>\n",
       "      <th>Last Restocked</th>\n",
       "    </tr>\n",
       "  </thead>\n",
       "  <tbody>\n",
       "    <tr>\n",
       "      <th>0</th>\n",
       "      <td>1102</td>\n",
       "      <td>Gadget Y</td>\n",
       "      <td>Electronics</td>\n",
       "      <td>Warehouse 2</td>\n",
       "      <td>Aisle 1</td>\n",
       "      <td>300.0</td>\n",
       "      <td>9.99</td>\n",
       "      <td>Supplier C</td>\n",
       "      <td>In Stock</td>\n",
       "      <td>2025-10-21 13:39:47.573090</td>\n",
       "    </tr>\n",
       "    <tr>\n",
       "      <th>1</th>\n",
       "      <td>1435</td>\n",
       "      <td>Gadget Y</td>\n",
       "      <td>Electronics</td>\n",
       "      <td>Warehouse 2</td>\n",
       "      <td>Aisle 4</td>\n",
       "      <td>200.0</td>\n",
       "      <td>19.99</td>\n",
       "      <td>Supplier C</td>\n",
       "      <td>Out of Stock</td>\n",
       "      <td>2025-10-21 13:39:47.573090</td>\n",
       "    </tr>\n",
       "    <tr>\n",
       "      <th>2</th>\n",
       "      <td>1860</td>\n",
       "      <td>Widget A</td>\n",
       "      <td>Clothing</td>\n",
       "      <td>Warehouse 2</td>\n",
       "      <td>Aisle 3</td>\n",
       "      <td>100.0</td>\n",
       "      <td>19.99</td>\n",
       "      <td>Supplier B</td>\n",
       "      <td>In Stock</td>\n",
       "      <td>2022-12-20 00:00:00.000000</td>\n",
       "    </tr>\n",
       "    <tr>\n",
       "      <th>3</th>\n",
       "      <td>1270</td>\n",
       "      <td>Gadget Z</td>\n",
       "      <td>Toys</td>\n",
       "      <td>Warehouse 2</td>\n",
       "      <td>Aisle 4</td>\n",
       "      <td>50.0</td>\n",
       "      <td>49.99</td>\n",
       "      <td>Supplier B</td>\n",
       "      <td>In Stock</td>\n",
       "      <td>2022-12-20 00:00:00.000000</td>\n",
       "    </tr>\n",
       "    <tr>\n",
       "      <th>4</th>\n",
       "      <td>1106</td>\n",
       "      <td>Widget A</td>\n",
       "      <td>Furniture</td>\n",
       "      <td>Warehouse 3</td>\n",
       "      <td>Aisle 3</td>\n",
       "      <td>200.0</td>\n",
       "      <td>9.99</td>\n",
       "      <td>Supplier D</td>\n",
       "      <td>Out of Stock</td>\n",
       "      <td>2023-04-25 00:00:00.000000</td>\n",
       "    </tr>\n",
       "  </tbody>\n",
       "</table>\n",
       "</div>"
      ],
      "text/plain": [
       "   Product ID Product Name     Category    Warehouse Location  Quantity  \\\n",
       "0        1102    Gadget Y   Electronics  Warehouse 2  Aisle 1     300.0   \n",
       "1        1435    Gadget Y   Electronics  Warehouse 2  Aisle 4     200.0   \n",
       "2        1860    Widget A      Clothing  Warehouse 2  Aisle 3     100.0   \n",
       "3        1270    Gadget Z          Toys  Warehouse 2  Aisle 4      50.0   \n",
       "4        1106    Widget A     Furniture  Warehouse 3  Aisle 3     200.0   \n",
       "\n",
       "   Price    Supplier        Status             Last Restocked  \n",
       "0   9.99  Supplier C      In Stock 2025-10-21 13:39:47.573090  \n",
       "1  19.99  Supplier C  Out of Stock 2025-10-21 13:39:47.573090  \n",
       "2  19.99  Supplier B      In Stock 2022-12-20 00:00:00.000000  \n",
       "3  49.99  Supplier B      In Stock 2022-12-20 00:00:00.000000  \n",
       "4   9.99  Supplier D  Out of Stock 2023-04-25 00:00:00.000000  "
      ]
     },
     "execution_count": 493,
     "metadata": {},
     "output_type": "execute_result"
    }
   ],
   "source": [
    "df.head()"
   ]
  },
  {
   "cell_type": "code",
   "execution_count": null,
   "id": "30db0506-ac46-491f-af43-95c00f41c82a",
   "metadata": {},
   "outputs": [],
   "source": []
  },
  {
   "cell_type": "code",
   "execution_count": null,
   "id": "dd955314-b604-44e9-ac0c-896052dfc8ba",
   "metadata": {},
   "outputs": [],
   "source": []
  }
 ],
 "metadata": {
  "kernelspec": {
   "display_name": "Python 3 (ipykernel)",
   "language": "python",
   "name": "python3"
  },
  "language_info": {
   "codemirror_mode": {
    "name": "ipython",
    "version": 3
   },
   "file_extension": ".py",
   "mimetype": "text/x-python",
   "name": "python",
   "nbconvert_exporter": "python",
   "pygments_lexer": "ipython3",
   "version": "3.12.11"
  }
 },
 "nbformat": 4,
 "nbformat_minor": 5
}
